{
  "nbformat": 4,
  "nbformat_minor": 0,
  "metadata": {
    "colab": {
      "provenance": [],
      "authorship_tag": "ABX9TyNuDPr/yKcgwmfrIS2AEzJ2",
      "include_colab_link": true
    },
    "kernelspec": {
      "name": "python3",
      "display_name": "Python 3"
    },
    "language_info": {
      "name": "python"
    }
  },
  "cells": [
    {
      "cell_type": "markdown",
      "metadata": {
        "id": "view-in-github",
        "colab_type": "text"
      },
      "source": [
        "<a href=\"https://colab.research.google.com/github/Junaidjkhan/WebScraping/blob/main/Web_Scraping.ipynb\" target=\"_parent\"><img src=\"https://colab.research.google.com/assets/colab-badge.svg\" alt=\"Open In Colab\"/></a>"
      ]
    },
    {
      "cell_type": "code",
      "execution_count": 3,
      "metadata": {
        "id": "mZs_GfTyPtNE"
      },
      "outputs": [],
      "source": [
        "import requests\n",
        "from bs4 import BeautifulSoup\n",
        "from urllib.parse import urljoin"
      ]
    },
    {
      "cell_type": "code",
      "source": [
        "# websaite to be scraped\n",
        "\n",
        "base_url = \"http://books.toscrape.com/catalogue/page-1.html\""
      ],
      "metadata": {
        "id": "qXgiL5ozQbpT"
      },
      "execution_count": 4,
      "outputs": []
    },
    {
      "cell_type": "code",
      "source": [
        "first_page = requests.get(base_url)\n",
        "\n",
        "if first_page.status_code == 200:\n",
        "  print(\"Success\")\n",
        "else:\n",
        "  print(f\"Failed with status code - {first_page.status_code}\")"
      ],
      "metadata": {
        "colab": {
          "base_uri": "https://localhost:8080/"
        },
        "id": "m_nkavCtRKrv",
        "outputId": "69198c04-e306-4b00-bc6f-8533a4f769fb"
      },
      "execution_count": 5,
      "outputs": [
        {
          "output_type": "stream",
          "name": "stdout",
          "text": [
            "Success\n"
          ]
        }
      ]
    },
    {
      "cell_type": "code",
      "source": [
        "first_page_soup = BeautifulSoup(markup = first_page.content, parser = \"html.parser\")"
      ],
      "metadata": {
        "id": "clmckUdVTgRO"
      },
      "execution_count": 6,
      "outputs": []
    },
    {
      "cell_type": "code",
      "source": [
        "first_page_books = first_page_soup.find_all(name = \"li\", class_=\"col-xs-6 col-sm-4 col-md-3 col-lg-3\")"
      ],
      "metadata": {
        "id": "bPVueLyjV6kl"
      },
      "execution_count": 7,
      "outputs": []
    },
    {
      "cell_type": "code",
      "source": [
        "book = first_page_books[0]"
      ],
      "metadata": {
        "id": "TltDOAzprllT"
      },
      "execution_count": 8,
      "outputs": []
    },
    {
      "cell_type": "code",
      "source": [
        "first_book_url = book.findChild(name=\"a\").get(\"href\")"
      ],
      "metadata": {
        "id": "TQeVNf1Nr_FC"
      },
      "execution_count": 9,
      "outputs": []
    },
    {
      "cell_type": "code",
      "source": [
        "first_book_url\n"
      ],
      "metadata": {
        "id": "ttkTh-8uv4tx",
        "colab": {
          "base_uri": "https://localhost:8080/",
          "height": 35
        },
        "outputId": "00d17e06-07c3-4c24-b1b4-9a65fe7be64c"
      },
      "execution_count": 10,
      "outputs": [
        {
          "output_type": "execute_result",
          "data": {
            "text/plain": [
              "'a-light-in-the-attic_1000/index.html'"
            ],
            "application/vnd.google.colaboratory.intrinsic+json": {
              "type": "string"
            }
          },
          "metadata": {},
          "execution_count": 10
        }
      ]
    },
    {
      "cell_type": "code",
      "source": [
        "first_book_url = urljoin(base_url, first_book_url)\n",
        "first_book_url"
      ],
      "metadata": {
        "colab": {
          "base_uri": "https://localhost:8080/",
          "height": 35
        },
        "id": "M-pmyeOc7KhK",
        "outputId": "934edb50-bcdb-46a5-f543-6d7edf78bceb"
      },
      "execution_count": 11,
      "outputs": [
        {
          "output_type": "execute_result",
          "data": {
            "text/plain": [
              "'http://books.toscrape.com/catalogue/a-light-in-the-attic_1000/index.html'"
            ],
            "application/vnd.google.colaboratory.intrinsic+json": {
              "type": "string"
            }
          },
          "metadata": {},
          "execution_count": 11
        }
      ]
    },
    {
      "cell_type": "code",
      "source": [
        "first_book = requests.get(first_book_url) #Practice exception handaling\n",
        "\n",
        "if first_book.status_code == 200:\n",
        "  print(\"Success\")\n",
        "else:\n",
        "  print(f\"Failed with status code - {first_page.status_code}\")"
      ],
      "metadata": {
        "colab": {
          "base_uri": "https://localhost:8080/"
        },
        "id": "ujODpRuItDhg",
        "outputId": "66489ad1-fe59-4c8e-df92-bc699ce7d69f"
      },
      "execution_count": 12,
      "outputs": [
        {
          "output_type": "stream",
          "name": "stdout",
          "text": [
            "Success\n"
          ]
        }
      ]
    },
    {
      "cell_type": "code",
      "source": [
        "first_book_soup = BeautifulSoup(markup = first_book.content, parser=\"html.parser\")"
      ],
      "metadata": {
        "id": "ztI1hRnYxtrz"
      },
      "execution_count": 13,
      "outputs": []
    },
    {
      "cell_type": "code",
      "source": [
        "name = first_book_soup.find(name=\"h1\").getText()"
      ],
      "metadata": {
        "id": "hYjY3X2nxto_"
      },
      "execution_count": 14,
      "outputs": []
    },
    {
      "cell_type": "code",
      "source": [
        "name"
      ],
      "metadata": {
        "colab": {
          "base_uri": "https://localhost:8080/",
          "height": 35
        },
        "id": "g9qxd-x5xtmG",
        "outputId": "2b9fa18b-4e3d-4fef-e9f4-569dfe385aeb"
      },
      "execution_count": 15,
      "outputs": [
        {
          "output_type": "execute_result",
          "data": {
            "text/plain": [
              "'A Light in the Attic'"
            ],
            "application/vnd.google.colaboratory.intrinsic+json": {
              "type": "string"
            }
          },
          "metadata": {},
          "execution_count": 15
        }
      ]
    },
    {
      "cell_type": "code",
      "source": [
        "first_book_TD = first_book_soup.find_all(name=\"tr\")"
      ],
      "metadata": {
        "id": "qoAxocoRxtjX"
      },
      "execution_count": 16,
      "outputs": []
    },
    {
      "cell_type": "code",
      "source": [
        "len(first_book_TD)"
      ],
      "metadata": {
        "colab": {
          "base_uri": "https://localhost:8080/"
        },
        "id": "mQYul4oBxtgv",
        "outputId": "54e6740b-97a6-4008-dd38-5bf350e017c9"
      },
      "execution_count": 17,
      "outputs": [
        {
          "output_type": "execute_result",
          "data": {
            "text/plain": [
              "7"
            ]
          },
          "metadata": {},
          "execution_count": 17
        }
      ]
    },
    {
      "cell_type": "code",
      "source": [
        "first_book_data = {}\n",
        "\n",
        "for row in first_book_TD:\n",
        "  key = row.find(name=\"th\").getText()\n",
        "  value = row.find(name=\"td\").getText()\n",
        "  first_book_data[key] = value"
      ],
      "metadata": {
        "id": "svGN6yg6xtd-"
      },
      "execution_count": 18,
      "outputs": []
    },
    {
      "cell_type": "code",
      "source": [
        "first_book_data"
      ],
      "metadata": {
        "colab": {
          "base_uri": "https://localhost:8080/"
        },
        "id": "YOBemht2xtbH",
        "outputId": "1049430e-5ad9-4c45-97fe-bc217ce6318d"
      },
      "execution_count": 19,
      "outputs": [
        {
          "output_type": "execute_result",
          "data": {
            "text/plain": [
              "{'UPC': 'a897fe39b1053632',\n",
              " 'Product Type': 'Books',\n",
              " 'Price (excl. tax)': '£51.77',\n",
              " 'Price (incl. tax)': '£51.77',\n",
              " 'Tax': '£0.00',\n",
              " 'Availability': 'In stock (22 available)',\n",
              " 'Number of reviews': '0'}"
            ]
          },
          "metadata": {},
          "execution_count": 19
        }
      ]
    },
    {
      "cell_type": "code",
      "source": [
        "# Wraping the functionality in one function\n",
        "\n",
        "def first_scraped(first_book_url):\n",
        "\n",
        "\n",
        "  first_book = requests.get(first_book_url)\n",
        "  first_book_soup = BeautifulSoup(markup = first_book.content, parser=\"html.parser\")\n",
        "\n",
        "  first_book_data = {}\n",
        "\n",
        "  # Getting the name\n",
        "  name = first_book_soup.find(name=\"h1\").getText()\n",
        "  first_book_data[\"Name\"] = name\n",
        "\n",
        "  # Getting the content\n",
        "  first_book_TD = first_book_soup.find_all(name=\"tr\")\n",
        "  for row in first_book_TD:\n",
        "    key = row.find(name=\"th\").getText()\n",
        "    value = row.find(name=\"td\").getText()\n",
        "    first_book_data[key] = value\n",
        "\n",
        "  # Adding book URL in final output\n",
        "  first_book_data[\"Book URL\"] = first_book_url\n",
        "  print(\"***Welcome to the world of scraping***\")\n",
        "  return first_book_data"
      ],
      "metadata": {
        "id": "iN9E6Dm9xtYW"
      },
      "execution_count": 20,
      "outputs": []
    },
    {
      "cell_type": "code",
      "source": [
        "first_scraped(first_book_url)"
      ],
      "metadata": {
        "colab": {
          "base_uri": "https://localhost:8080/"
        },
        "id": "HIOsIxxKxtVp",
        "outputId": "f23f1272-0350-483a-af58-05dcfcc4e894"
      },
      "execution_count": 21,
      "outputs": [
        {
          "output_type": "stream",
          "name": "stdout",
          "text": [
            "***Welcome to the world of scraping***\n"
          ]
        },
        {
          "output_type": "execute_result",
          "data": {
            "text/plain": [
              "{'Name': 'A Light in the Attic',\n",
              " 'UPC': 'a897fe39b1053632',\n",
              " 'Product Type': 'Books',\n",
              " 'Price (excl. tax)': '£51.77',\n",
              " 'Price (incl. tax)': '£51.77',\n",
              " 'Tax': '£0.00',\n",
              " 'Availability': 'In stock (22 available)',\n",
              " 'Number of reviews': '0',\n",
              " 'Book URL': 'http://books.toscrape.com/catalogue/a-light-in-the-attic_1000/index.html'}"
            ]
          },
          "metadata": {},
          "execution_count": 21
        }
      ]
    },
    {
      "cell_type": "markdown",
      "source": [
        "Fetching the data of all books in one page"
      ],
      "metadata": {
        "id": "l-wpsE6KUPYK"
      }
    },
    {
      "cell_type": "code",
      "source": [
        "page_one_url = \"https://books.toscrape.com/catalogue/page-1.html\"\n",
        "\n",
        "page_one_content = requests.get(page_one_url).content\n",
        "one_page_soup = BeautifulSoup(markup = page_one_content, parser = \"html.parser\")\n",
        "page_one_books = first_page_soup.find_all(name=\"li\", class_=\"col-xs-6 col-sm-4 col-md-3 col-lg-3\")"
      ],
      "metadata": {
        "id": "7mK6MkHfxtS-"
      },
      "execution_count": 22,
      "outputs": []
    },
    {
      "cell_type": "code",
      "source": [
        "len(page_one_books)"
      ],
      "metadata": {
        "colab": {
          "base_uri": "https://localhost:8080/"
        },
        "id": "NVmann_dxtQg",
        "outputId": "d5305878-2a5d-4d60-c314-670d35ce976c"
      },
      "execution_count": 23,
      "outputs": [
        {
          "output_type": "execute_result",
          "data": {
            "text/plain": [
              "20"
            ]
          },
          "metadata": {},
          "execution_count": 23
        }
      ]
    },
    {
      "cell_type": "code",
      "source": [
        "page_one_books_data = []\n",
        "\n",
        "for book in page_one_books:\n",
        "  first_book_url = book.findChild(name = \"a\").get(\"href\")\n",
        "\n",
        "  # converting relative URL to absoulte URL\n",
        "\n",
        "  first_book_url = urljoin(base_url, first_book_url)\n",
        "\n",
        "  first_book_data = first_scraped(first_book_url)\n",
        "  page_one_books_data.append(first_book_data)"
      ],
      "metadata": {
        "colab": {
          "base_uri": "https://localhost:8080/"
        },
        "id": "KN8D9De8U77x",
        "outputId": "c2c4bfb3-a137-4d3b-ee56-6e3c4fedd6f2"
      },
      "execution_count": 24,
      "outputs": [
        {
          "output_type": "stream",
          "name": "stdout",
          "text": [
            "***Welcome to the world of scraping***\n",
            "***Welcome to the world of scraping***\n",
            "***Welcome to the world of scraping***\n",
            "***Welcome to the world of scraping***\n",
            "***Welcome to the world of scraping***\n",
            "***Welcome to the world of scraping***\n",
            "***Welcome to the world of scraping***\n",
            "***Welcome to the world of scraping***\n",
            "***Welcome to the world of scraping***\n",
            "***Welcome to the world of scraping***\n",
            "***Welcome to the world of scraping***\n",
            "***Welcome to the world of scraping***\n",
            "***Welcome to the world of scraping***\n",
            "***Welcome to the world of scraping***\n",
            "***Welcome to the world of scraping***\n",
            "***Welcome to the world of scraping***\n",
            "***Welcome to the world of scraping***\n",
            "***Welcome to the world of scraping***\n",
            "***Welcome to the world of scraping***\n",
            "***Welcome to the world of scraping***\n"
          ]
        }
      ]
    },
    {
      "cell_type": "code",
      "source": [
        "def scrape_page(page_one_url):\n",
        "  page_one_books_data = []\n",
        "  page_one_content = requests.get(page_one_url).content\n",
        "  one_page_soup = BeautifulSoup(markup = page_one_content, parser = \"html.parser\")\n",
        "  page_one_books = first_page_soup.find_all(name=\"li\", class_=\"col-xs-6 col-sm-4 col-md-3 col-lg-3\")\n",
        "\n",
        "  for book in page_one_books:\n",
        "    first_book_url = book.findChild(name = \"a\").get(\"href\")\n",
        "    first_book_url = urljoin(base_url, first_book_url)\n",
        "    first_book_data = first_scraped(first_book_url)\n",
        "    page_one_books_data.append(first_book_data)\n",
        "  return page_one_books_data"
      ],
      "metadata": {
        "id": "yq4U3GcgU71U"
      },
      "execution_count": 25,
      "outputs": []
    },
    {
      "cell_type": "code",
      "source": [
        "page_one_books_data"
      ],
      "metadata": {
        "id": "-dkJD9sIU7yd",
        "colab": {
          "base_uri": "https://localhost:8080/"
        },
        "outputId": "488597ce-3af2-4957-a625-dfed4a284ed4"
      },
      "execution_count": 26,
      "outputs": [
        {
          "output_type": "execute_result",
          "data": {
            "text/plain": [
              "[{'Name': 'A Light in the Attic',\n",
              "  'UPC': 'a897fe39b1053632',\n",
              "  'Product Type': 'Books',\n",
              "  'Price (excl. tax)': '£51.77',\n",
              "  'Price (incl. tax)': '£51.77',\n",
              "  'Tax': '£0.00',\n",
              "  'Availability': 'In stock (22 available)',\n",
              "  'Number of reviews': '0',\n",
              "  'Book URL': 'http://books.toscrape.com/catalogue/a-light-in-the-attic_1000/index.html'},\n",
              " {'Name': 'Tipping the Velvet',\n",
              "  'UPC': '90fa61229261140a',\n",
              "  'Product Type': 'Books',\n",
              "  'Price (excl. tax)': '£53.74',\n",
              "  'Price (incl. tax)': '£53.74',\n",
              "  'Tax': '£0.00',\n",
              "  'Availability': 'In stock (20 available)',\n",
              "  'Number of reviews': '0',\n",
              "  'Book URL': 'http://books.toscrape.com/catalogue/tipping-the-velvet_999/index.html'},\n",
              " {'Name': 'Soumission',\n",
              "  'UPC': '6957f44c3847a760',\n",
              "  'Product Type': 'Books',\n",
              "  'Price (excl. tax)': '£50.10',\n",
              "  'Price (incl. tax)': '£50.10',\n",
              "  'Tax': '£0.00',\n",
              "  'Availability': 'In stock (20 available)',\n",
              "  'Number of reviews': '0',\n",
              "  'Book URL': 'http://books.toscrape.com/catalogue/soumission_998/index.html'},\n",
              " {'Name': 'Sharp Objects',\n",
              "  'UPC': 'e00eb4fd7b871a48',\n",
              "  'Product Type': 'Books',\n",
              "  'Price (excl. tax)': '£47.82',\n",
              "  'Price (incl. tax)': '£47.82',\n",
              "  'Tax': '£0.00',\n",
              "  'Availability': 'In stock (20 available)',\n",
              "  'Number of reviews': '0',\n",
              "  'Book URL': 'http://books.toscrape.com/catalogue/sharp-objects_997/index.html'},\n",
              " {'Name': 'Sapiens: A Brief History of Humankind',\n",
              "  'UPC': '4165285e1663650f',\n",
              "  'Product Type': 'Books',\n",
              "  'Price (excl. tax)': '£54.23',\n",
              "  'Price (incl. tax)': '£54.23',\n",
              "  'Tax': '£0.00',\n",
              "  'Availability': 'In stock (20 available)',\n",
              "  'Number of reviews': '0',\n",
              "  'Book URL': 'http://books.toscrape.com/catalogue/sapiens-a-brief-history-of-humankind_996/index.html'},\n",
              " {'Name': 'The Requiem Red',\n",
              "  'UPC': 'f77dbf2323deb740',\n",
              "  'Product Type': 'Books',\n",
              "  'Price (excl. tax)': '£22.65',\n",
              "  'Price (incl. tax)': '£22.65',\n",
              "  'Tax': '£0.00',\n",
              "  'Availability': 'In stock (19 available)',\n",
              "  'Number of reviews': '0',\n",
              "  'Book URL': 'http://books.toscrape.com/catalogue/the-requiem-red_995/index.html'},\n",
              " {'Name': 'The Dirty Little Secrets of Getting Your Dream Job',\n",
              "  'UPC': '2597b5a345f45e1b',\n",
              "  'Product Type': 'Books',\n",
              "  'Price (excl. tax)': '£33.34',\n",
              "  'Price (incl. tax)': '£33.34',\n",
              "  'Tax': '£0.00',\n",
              "  'Availability': 'In stock (19 available)',\n",
              "  'Number of reviews': '0',\n",
              "  'Book URL': 'http://books.toscrape.com/catalogue/the-dirty-little-secrets-of-getting-your-dream-job_994/index.html'},\n",
              " {'Name': 'The Coming Woman: A Novel Based on the Life of the Infamous Feminist, Victoria Woodhull',\n",
              "  'UPC': 'e72a5dfc7e9267b2',\n",
              "  'Product Type': 'Books',\n",
              "  'Price (excl. tax)': '£17.93',\n",
              "  'Price (incl. tax)': '£17.93',\n",
              "  'Tax': '£0.00',\n",
              "  'Availability': 'In stock (19 available)',\n",
              "  'Number of reviews': '0',\n",
              "  'Book URL': 'http://books.toscrape.com/catalogue/the-coming-woman-a-novel-based-on-the-life-of-the-infamous-feminist-victoria-woodhull_993/index.html'},\n",
              " {'Name': 'The Boys in the Boat: Nine Americans and Their Epic Quest for Gold at the 1936 Berlin Olympics',\n",
              "  'UPC': 'e10e1e165dc8be4a',\n",
              "  'Product Type': 'Books',\n",
              "  'Price (excl. tax)': '£22.60',\n",
              "  'Price (incl. tax)': '£22.60',\n",
              "  'Tax': '£0.00',\n",
              "  'Availability': 'In stock (19 available)',\n",
              "  'Number of reviews': '0',\n",
              "  'Book URL': 'http://books.toscrape.com/catalogue/the-boys-in-the-boat-nine-americans-and-their-epic-quest-for-gold-at-the-1936-berlin-olympics_992/index.html'},\n",
              " {'Name': 'The Black Maria',\n",
              "  'UPC': '1dfe412b8ac00530',\n",
              "  'Product Type': 'Books',\n",
              "  'Price (excl. tax)': '£52.15',\n",
              "  'Price (incl. tax)': '£52.15',\n",
              "  'Tax': '£0.00',\n",
              "  'Availability': 'In stock (19 available)',\n",
              "  'Number of reviews': '0',\n",
              "  'Book URL': 'http://books.toscrape.com/catalogue/the-black-maria_991/index.html'},\n",
              " {'Name': 'Starving Hearts (Triangular Trade Trilogy, #1)',\n",
              "  'UPC': '0312262ecafa5a40',\n",
              "  'Product Type': 'Books',\n",
              "  'Price (excl. tax)': '£13.99',\n",
              "  'Price (incl. tax)': '£13.99',\n",
              "  'Tax': '£0.00',\n",
              "  'Availability': 'In stock (19 available)',\n",
              "  'Number of reviews': '0',\n",
              "  'Book URL': 'http://books.toscrape.com/catalogue/starving-hearts-triangular-trade-trilogy-1_990/index.html'},\n",
              " {'Name': \"Shakespeare's Sonnets\",\n",
              "  'UPC': '30a7f60cd76ca58c',\n",
              "  'Product Type': 'Books',\n",
              "  'Price (excl. tax)': '£20.66',\n",
              "  'Price (incl. tax)': '£20.66',\n",
              "  'Tax': '£0.00',\n",
              "  'Availability': 'In stock (19 available)',\n",
              "  'Number of reviews': '0',\n",
              "  'Book URL': 'http://books.toscrape.com/catalogue/shakespeares-sonnets_989/index.html'},\n",
              " {'Name': 'Set Me Free',\n",
              "  'UPC': 'ce6396b0f23f6ecc',\n",
              "  'Product Type': 'Books',\n",
              "  'Price (excl. tax)': '£17.46',\n",
              "  'Price (incl. tax)': '£17.46',\n",
              "  'Tax': '£0.00',\n",
              "  'Availability': 'In stock (19 available)',\n",
              "  'Number of reviews': '0',\n",
              "  'Book URL': 'http://books.toscrape.com/catalogue/set-me-free_988/index.html'},\n",
              " {'Name': \"Scott Pilgrim's Precious Little Life (Scott Pilgrim #1)\",\n",
              "  'UPC': '3b1c02bac2a429e6',\n",
              "  'Product Type': 'Books',\n",
              "  'Price (excl. tax)': '£52.29',\n",
              "  'Price (incl. tax)': '£52.29',\n",
              "  'Tax': '£0.00',\n",
              "  'Availability': 'In stock (19 available)',\n",
              "  'Number of reviews': '0',\n",
              "  'Book URL': 'http://books.toscrape.com/catalogue/scott-pilgrims-precious-little-life-scott-pilgrim-1_987/index.html'},\n",
              " {'Name': 'Rip it Up and Start Again',\n",
              "  'UPC': 'a34ba96d4081e6a4',\n",
              "  'Product Type': 'Books',\n",
              "  'Price (excl. tax)': '£35.02',\n",
              "  'Price (incl. tax)': '£35.02',\n",
              "  'Tax': '£0.00',\n",
              "  'Availability': 'In stock (19 available)',\n",
              "  'Number of reviews': '0',\n",
              "  'Book URL': 'http://books.toscrape.com/catalogue/rip-it-up-and-start-again_986/index.html'},\n",
              " {'Name': 'Our Band Could Be Your Life: Scenes from the American Indie Underground, 1981-1991',\n",
              "  'UPC': 'deda3e61b9514b83',\n",
              "  'Product Type': 'Books',\n",
              "  'Price (excl. tax)': '£57.25',\n",
              "  'Price (incl. tax)': '£57.25',\n",
              "  'Tax': '£0.00',\n",
              "  'Availability': 'In stock (19 available)',\n",
              "  'Number of reviews': '0',\n",
              "  'Book URL': 'http://books.toscrape.com/catalogue/our-band-could-be-your-life-scenes-from-the-american-indie-underground-1981-1991_985/index.html'},\n",
              " {'Name': 'Olio',\n",
              "  'UPC': 'feb7cc7701ecf901',\n",
              "  'Product Type': 'Books',\n",
              "  'Price (excl. tax)': '£23.88',\n",
              "  'Price (incl. tax)': '£23.88',\n",
              "  'Tax': '£0.00',\n",
              "  'Availability': 'In stock (19 available)',\n",
              "  'Number of reviews': '0',\n",
              "  'Book URL': 'http://books.toscrape.com/catalogue/olio_984/index.html'},\n",
              " {'Name': 'Mesaerion: The Best Science Fiction Stories 1800-1849',\n",
              "  'UPC': 'e30f54cea9b38190',\n",
              "  'Product Type': 'Books',\n",
              "  'Price (excl. tax)': '£37.59',\n",
              "  'Price (incl. tax)': '£37.59',\n",
              "  'Tax': '£0.00',\n",
              "  'Availability': 'In stock (19 available)',\n",
              "  'Number of reviews': '0',\n",
              "  'Book URL': 'http://books.toscrape.com/catalogue/mesaerion-the-best-science-fiction-stories-1800-1849_983/index.html'},\n",
              " {'Name': 'Libertarianism for Beginners',\n",
              "  'UPC': 'a18a4f574854aced',\n",
              "  'Product Type': 'Books',\n",
              "  'Price (excl. tax)': '£51.33',\n",
              "  'Price (incl. tax)': '£51.33',\n",
              "  'Tax': '£0.00',\n",
              "  'Availability': 'In stock (19 available)',\n",
              "  'Number of reviews': '0',\n",
              "  'Book URL': 'http://books.toscrape.com/catalogue/libertarianism-for-beginners_982/index.html'},\n",
              " {'Name': \"It's Only the Himalayas\",\n",
              "  'UPC': 'a22124811bfa8350',\n",
              "  'Product Type': 'Books',\n",
              "  'Price (excl. tax)': '£45.17',\n",
              "  'Price (incl. tax)': '£45.17',\n",
              "  'Tax': '£0.00',\n",
              "  'Availability': 'In stock (19 available)',\n",
              "  'Number of reviews': '0',\n",
              "  'Book URL': 'http://books.toscrape.com/catalogue/its-only-the-himalayas_981/index.html'}]"
            ]
          },
          "metadata": {},
          "execution_count": 26
        }
      ]
    },
    {
      "cell_type": "code",
      "source": [],
      "metadata": {
        "id": "wSeilY7cU7vG"
      },
      "execution_count": null,
      "outputs": []
    },
    {
      "cell_type": "code",
      "source": [],
      "metadata": {
        "id": "gBSrA9jaU7sO"
      },
      "execution_count": null,
      "outputs": []
    },
    {
      "cell_type": "code",
      "source": [],
      "metadata": {
        "id": "VcZTzj8aU7o2"
      },
      "execution_count": null,
      "outputs": []
    },
    {
      "cell_type": "code",
      "source": [],
      "metadata": {
        "id": "vi_Q5eVcU7lv"
      },
      "execution_count": null,
      "outputs": []
    },
    {
      "cell_type": "code",
      "source": [],
      "metadata": {
        "id": "sqhmAcvLU7ii"
      },
      "execution_count": null,
      "outputs": []
    },
    {
      "cell_type": "code",
      "source": [],
      "metadata": {
        "id": "sPbuWfisU7fQ"
      },
      "execution_count": null,
      "outputs": []
    },
    {
      "cell_type": "code",
      "source": [],
      "metadata": {
        "id": "6mIIKRDRxtN3"
      },
      "execution_count": null,
      "outputs": []
    },
    {
      "cell_type": "code",
      "source": [],
      "metadata": {
        "id": "QHlPsRrkxtKv"
      },
      "execution_count": null,
      "outputs": []
    }
  ]
}